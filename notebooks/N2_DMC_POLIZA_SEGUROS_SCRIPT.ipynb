{
  "cells": [
    {
      "cell_type": "markdown",
      "metadata": {
        "id": "dapQa6nhAf5m"
      },
      "source": [
        "# Script del proyecto Poliza de Seguros\n"
      ]
    },
    {
      "cell_type": "markdown",
      "source": [
        "# Scrip1 : Codigo de Entrenamiento"
      ],
      "metadata": {
        "id": "M_qED96_3U87"
      }
    },
    {
      "cell_type": "code",
      "source": [
        "import pandas as pd\n",
        "import statsmodels.api as sm\n",
        "import pickle"
      ],
      "metadata": {
        "id": "Kw7uem8BKwwe"
      },
      "execution_count": 2,
      "outputs": []
    },
    {
      "cell_type": "code",
      "source": [
        "# Cargar la tabla\n",
        "poliza_df = pd.read_csv(\"data/raw/poliza_train.csv\")\n",
        "#- Se definen las variables \n",
        "X_train = poliza_df[['edad', 'AniosDireccion', 'Gastocoche', 'Aniosempleo', 'Aniosresiden']]\n",
        "X_train = sm.add_constant(X_train)\n",
        "y_train = poliza_df[['ingres']]"
      ],
      "metadata": {
        "id": "Js-oPMBI6PsO"
      },
      "execution_count": 3,
      "outputs": []
    },
    {
      "cell_type": "code",
      "source": [
        "# Entrenamos el modelo con toda la muestra\n",
        "M_R = sm.OLS(y_train,X_train)\n",
        "M_R = M_R.fit()"
      ],
      "metadata": {
        "id": "018GEQOl7mTC"
      },
      "execution_count": 4,
      "outputs": []
    },
    {
      "cell_type": "code",
      "source": [
        "# Guardamos el modelo entrenado para usarlo en produccion\n",
        "filename = 'models/best_model.pkl'\n",
        "pickle.dump(M_R, open(filename, 'wb'))"
      ],
      "metadata": {
        "id": "GaW1Qv4-KjK_"
      },
      "execution_count": 5,
      "outputs": []
    },
    {
      "cell_type": "markdown",
      "source": [
        "# Scrip2 : Codigo de Validacion"
      ],
      "metadata": {
        "id": "f3xZYVYwLfGM"
      }
    },
    {
      "cell_type": "code",
      "source": [
        "import pandas as pd\n",
        "import numpy as np\n",
        "import statsmodels.api as sm\n",
        "import pickle\n",
        "import matplotlib.pyplot as plt\n",
        "from sklearn.metrics import *\n",
        "\n",
        "from sklearn.metrics import mean_squared_error\n",
        "from sklearn import metrics"
      ],
      "metadata": {
        "id": "JnvHOwi5OO16"
      },
      "execution_count": 6,
      "outputs": []
    },
    {
      "cell_type": "code",
      "source": [
        "# Cargar la tabla\n",
        "poliza_test_df = pd.read_csv(\"data/raw/poliza_val.csv\")\n",
        "#- Se definen las variables \n",
        "X_test = poliza_test_df[['edad', 'AniosDireccion', 'Gastocoche', 'Aniosempleo', 'Aniosresiden']]\n",
        "X_test = sm.add_constant(X_test)\n",
        "y_test = poliza_test_df[['ingres']]"
      ],
      "metadata": {
        "id": "FfU0GB9lLm32"
      },
      "execution_count": 7,
      "outputs": []
    },
    {
      "cell_type": "code",
      "source": [
        "# Leemos el modelo entrenado!\n",
        "filename = 'models/best_model.pkl'\n",
        "model = pickle.load(open(filename, 'rb'))"
      ],
      "metadata": {
        "id": "EayJ8HW5Lm6g"
      },
      "execution_count": 8,
      "outputs": []
    },
    {
      "cell_type": "code",
      "source": [
        "# Predecimos sobre el set de datos de implementacion con el modelo entrenado\n",
        "y_pred_test=model.predict(X_test)"
      ],
      "metadata": {
        "id": "lCI66nz5L0Bc"
      },
      "execution_count": 9,
      "outputs": []
    },
    {
      "cell_type": "code",
      "source": [
        "## Metricas de validación\n",
        "def calc_metrics(y_test,y_pred_test):\n",
        "    print('MAPE: ',      metrics.mean_absolute_error(y_test, y_pred_test))  \n",
        "    print('MAE: ',       metrics.mean_squared_error(y_test, y_pred_test))  \n",
        "    print('RMSE: ',  np.sqrt(metrics.mean_squared_error(y_test, y_pred_test)))\n",
        "    rmse_ols = np.sqrt(metrics.mean_squared_error(y_test, y_pred_test))\n",
        "    print(f\"El error (RMSE) de test es: {rmse_ols}\")"
      ],
      "metadata": {
        "id": "j8q1gQwuL0D5"
      },
      "execution_count": 10,
      "outputs": []
    },
    {
      "cell_type": "code",
      "source": [
        "calc_metrics(y_test,y_pred_test)"
      ],
      "metadata": {
        "colab": {
          "base_uri": "https://localhost:8080/"
        },
        "id": "p05TR3GkOHOx",
        "outputId": "14da5ea1-bc81-4bf7-db5a-be5f8f2c5082"
      },
      "execution_count": 11,
      "outputs": [
        {
          "output_type": "stream",
          "name": "stdout",
          "text": [
            "MAPE:  19.46082156960554\n",
            "MAE:  2229.9720042890576\n",
            "RMSE:  47.22257939046805\n",
            "El error (RMSE) de test es: 47.22257939046805\n"
          ]
        }
      ]
    },
    {
      "cell_type": "markdown",
      "source": [
        "# Scrip3 : Codigo de Scoring (Automatización)"
      ],
      "metadata": {
        "id": "S_Rx0dCwQvNp"
      }
    },
    {
      "cell_type": "code",
      "source": [
        "import pandas as pd\n",
        "import statsmodels.api as sm\n",
        "import pickle"
      ],
      "metadata": {
        "id": "BcmxFQ_fQzZp"
      },
      "execution_count": 12,
      "outputs": []
    },
    {
      "cell_type": "code",
      "source": [
        "# Cargar la tabla\n",
        "poliza_scor_df = pd.read_csv(\"data/raw/poliza_scor.csv\")"
      ],
      "metadata": {
        "id": "UrK47-1tQzcS"
      },
      "execution_count": 13,
      "outputs": []
    },
    {
      "cell_type": "code",
      "source": [
        "# Leemos el modelo entrenado!\n",
        "filename = 'models/best_model.pkl'\n",
        "model = pickle.load(open(filename, 'rb'))"
      ],
      "metadata": {
        "id": "hypZBhv4Qzed"
      },
      "execution_count": 14,
      "outputs": []
    },
    {
      "cell_type": "code",
      "source": [
        "# Predecimos sobre el set de datos de implementacion con el modelo entrenado\n",
        "scores=model.predict(poliza_scor_df)"
      ],
      "metadata": {
        "id": "ix6mfa8tRBv0"
      },
      "execution_count": 15,
      "outputs": []
    },
    {
      "cell_type": "code",
      "source": [
        "# Exportamos el resultado del modelo para cargarlo en el Feature Store o Data Mart de Modelos\n",
        "# Le asignamos nombres a las columnas\n",
        "df_score = pd.DataFrame(scores, columns=['PREDICT'])\n",
        "# Exportamos la solucion\n",
        "df_score.to_csv('data/scores/final_score.csv')"
      ],
      "metadata": {
        "id": "KV2N1lEpRByR"
      },
      "execution_count": 16,
      "outputs": []
    },
    {
      "cell_type": "code",
      "source": [
        ""
      ],
      "metadata": {
        "id": "pCnBEU0vSz5Z"
      },
      "execution_count": 16,
      "outputs": []
    }
  ],
  "metadata": {
    "colab": {
      "name": "N2_DMC_POLIZA_SEGUROS_SCRIPT.ipynb",
      "provenance": [],
      "collapsed_sections": []
    },
    "kernelspec": {
      "display_name": "Python 3",
      "name": "python3"
    },
    "language_info": {
      "name": "python"
    }
  },
  "nbformat": 4,
  "nbformat_minor": 0
}